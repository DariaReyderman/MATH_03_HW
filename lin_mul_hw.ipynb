{
 "cells": [
  {
   "cell_type": "code",
   "execution_count": 11,
   "id": "f4ccb7ed-6f6e-445b-a183-1f2be936997f",
   "metadata": {},
   "outputs": [
    {
     "name": "stdout",
     "output_type": "stream",
     "text": [
      "Intercept (β₀): 1.72\n",
      "Coefficients (β₁, β₂, β₃, β₄): [1.97320904 0.11806371 0.20019818 2.57642763]\n"
     ]
    }
   ],
   "source": [
    "import numpy as np\n",
    "from sklearn.linear_model import LinearRegression\n",
    "\n",
    "# Example features and target\n",
    "X = np.array([\n",
    "    [2, 15, 40, 0],\n",
    "    [5, 16, 45, 1],\n",
    "    [3, 16, 40, 0],\n",
    "    [10, 18, 50, 5],\n",
    "    [7, 17, 45, 3],\n",
    "    [1, 14, 35, 0],\n",
    "    [8, 16, 45, 4],\n",
    "    [4, 15, 40, 1],\n",
    "    [6, 15, 42, 2],\n",
    "    [12, 19, 55, 8]\n",
    "])\n",
    "y = np.array([15, 25, 18, 45, 35, 12, 38, 22, 30, 60])\n",
    "\n",
    "# Fit the model\n",
    "model = LinearRegression()\n",
    "model.fit(X, y)\n",
    "\n",
    "# Get coefficients\n",
    "print(f\"Intercept (β₀): {model.intercept_:.2f}\")\n",
    "print(f\"Coefficients (β₁, β₂, β₃, β₄): {model.coef_}\")"
   ]
  },
  {
   "cell_type": "code",
   "execution_count": 13,
   "id": "ccb147b6-e472-4707-85e1-5cd452cf85b9",
   "metadata": {},
   "outputs": [
    {
     "name": "stdout",
     "output_type": "stream",
     "text": [
      "Intercept (β₀): -4.33\n",
      "Coefficient for Experience (years) (β1): 1.55\n",
      "Coefficient for Education (years) (β2): 1.06\n",
      "Coefficient for Weekly working hours (β3): 0.01\n",
      "Coefficient for Management experience (years) (β4): 3.06\n",
      "\n",
      "Training MSE: 0.36\n",
      "Testing MSE: 3.42\n",
      "Training R²: 1.00\n",
      "Testing R²: 0.45\n",
      "Adjusted R²: 1.00\n",
      "\n",
      "Predicted salary for a new worker: 28.63 thousand ILS\n"
     ]
    }
   ],
   "source": [
    "import numpy as np\n",
    "import matplotlib.pyplot as plt\n",
    "import pandas as pd\n",
    "from sklearn.linear_model import LinearRegression\n",
    "from sklearn.model_selection import train_test_split\n",
    "from sklearn.metrics import mean_squared_error, r2_score\n",
    "import seaborn as sns\n",
    "import warnings\n",
    "warnings.filterwarnings('ignore')\n",
    "\n",
    "# Create a DataFrame from our data\n",
    "columns = ['Experience (years)', 'Education (years)', 'Weekly working hours', 'Management experience (years)', 'Monthly salary (thousands ILS)']\n",
    "data = [\n",
    "    [2, 15, 40, 0, 15],\n",
    "    [5, 16, 45, 1, 25],\n",
    "    [3, 16, 40, 0, 18],\n",
    "    [10, 18, 50, 5, 45],\n",
    "    [7, 17, 45, 3, 35],\n",
    "    [1, 14, 35, 0, 12],\n",
    "    [8, 16, 45, 4, 38],\n",
    "    [4, 15, 40, 1, 22],\n",
    "    [6, 15, 42, 2, 30],\n",
    "    [12, 19, 55, 8, 60]\n",
    "]\n",
    "df = pd.DataFrame(data, columns=columns)\n",
    "\n",
    "# Prepare features (X) and target (y)\n",
    "X = df.drop('Monthly salary (thousands ILS)', axis=1)\n",
    "y = df['Monthly salary (thousands ILS)']\n",
    "\n",
    "# Split data into training and testing sets\n",
    "X_train, X_test, y_train, y_test = train_test_split(X, y, test_size=0.2, random_state=42)\n",
    "\n",
    "# Create and train the model\n",
    "model = LinearRegression()\n",
    "model.fit(X_train, y_train)\n",
    "\n",
    "# Print model coefficients\n",
    "print(f\"Intercept (β₀): {model.intercept_:.2f}\")\n",
    "for i, col in enumerate(X.columns):\n",
    "    print(f\"Coefficient for {col} (β{i+1}): {model.coef_[i]:.2f}\")\n",
    "\n",
    "# Make predictions\n",
    "y_pred_train = model.predict(X_train)\n",
    "y_pred_test = model.predict(X_test)\n",
    "\n",
    "# Evaluate the model\n",
    "train_mse = mean_squared_error(y_train, y_pred_train)\n",
    "test_mse = mean_squared_error(y_test, y_pred_test)\n",
    "train_r2 = r2_score(y_train, y_pred_train)\n",
    "test_r2 = r2_score(y_test, y_pred_test)\n",
    "\n",
    "print(f\"\\nTraining MSE: {train_mse:.2f}\")\n",
    "print(f\"Testing MSE: {test_mse:.2f}\")\n",
    "print(f\"Training R²: {train_r2:.2f}\")\n",
    "print(f\"Testing R²: {test_r2:.2f}\")\n",
    "\n",
    "# Calculate adjusted R²\n",
    "n = len(X_train)\n",
    "p = X_train.shape[1]\n",
    "adj_r2 = 1 - (1 - train_r2) * (n - 1) / (n - p - 1)\n",
    "print(f\"Adjusted R²: {adj_r2:.2f}\")\n",
    "\n",
    "# Make a prediction for a new salary\n",
    "new_worker = np.array([[6, 16, 43, 2]])\n",
    "predicted_salary = model.predict(new_worker)[0]\n",
    "print(f\"\\nPredicted salary for a new worker: {predicted_salary:.2f} thousand ILS\")"
   ]
  },
  {
   "cell_type": "markdown",
   "id": "e964861e-0a6f-4b18-ba7d-e809d0035650",
   "metadata": {},
   "source": [
    "#### Each additional year of experience increases the salary by about 1,550 ILS\n",
    "#### Each additional year of education increases the salary by about 1,060 ILS\n",
    "#### Each additional hour of work increases the salary by about 10 ILS\n",
    "#### Each additional year of management expirience increases the salary by about 3,060 ILS\n",
    "#### Based on the above data, we can conclude that the greatest influence on salary has a management experience and a work experience"
   ]
  }
 ],
 "metadata": {
  "kernelspec": {
   "display_name": "Python 3 (ipykernel)",
   "language": "python",
   "name": "python3"
  },
  "language_info": {
   "codemirror_mode": {
    "name": "ipython",
    "version": 3
   },
   "file_extension": ".py",
   "mimetype": "text/x-python",
   "name": "python",
   "nbconvert_exporter": "python",
   "pygments_lexer": "ipython3",
   "version": "3.12.4"
  }
 },
 "nbformat": 4,
 "nbformat_minor": 5
}
